{
 "cells": [
  {
   "cell_type": "code",
   "execution_count": 2,
   "metadata": {},
   "outputs": [],
   "source": [
    "from urllib.request import urlopen\n"
   ]
  },
  {
   "attachments": {},
   "cell_type": "markdown",
   "metadata": {},
   "source": [
    "### Extracting the url page content as string "
   ]
  },
  {
   "cell_type": "code",
   "execution_count": 3,
   "metadata": {},
   "outputs": [],
   "source": [
    "url = \"https://fr.wikipedia.org/wiki/Liste_des_r%C3%A9cipiendaires_du_prix_Nobel\"\n",
    "page = urlopen(url)\n",
    "html = page.read().decode('utf-8')"
   ]
  },
  {
   "attachments": {},
   "cell_type": "markdown",
   "metadata": {},
   "source": [
    "### Parsing the page to extract the necessary informations"
   ]
  },
  {
   "cell_type": "code",
   "execution_count": 4,
   "metadata": {},
   "outputs": [],
   "source": [
    "from bs4 import BeautifulSoup\n",
    "soup = BeautifulSoup(html, 'html.parser')"
   ]
  },
  {
   "cell_type": "code",
   "execution_count": 5,
   "metadata": {},
   "outputs": [],
   "source": [
    "# finding the table of Nobel laureates by category\n",
    "table_nobel = soup.find_all(\"table\",{\"class\":[\"wikitable\",\"sortable\",\"jquery-tablesorter\"]})[0]\n",
    "contents = table_nobel.tbody.contents\n",
    "header_in_html = contents[0]\n",
    "data_in_html = [x for x in contents[1:] if x!='\\n'] "
   ]
  },
  {
   "cell_type": "code",
   "execution_count": 6,
   "metadata": {},
   "outputs": [
    {
     "data": {
      "text/plain": [
       "<tr>\n",
       "<th>Année\n",
       "</th>\n",
       "<th width=\"18%\"><a href=\"/wiki/Prix_Nobel_de_physique\" title=\"Prix Nobel de physique\">Physique</a>\n",
       "</th>\n",
       "<th width=\"16%\"><a href=\"/wiki/Prix_Nobel_de_chimie\" title=\"Prix Nobel de chimie\">Chimie</a>\n",
       "</th>\n",
       "<th width=\"18%\"><a href=\"/wiki/Prix_Nobel_de_physiologie_ou_m%C3%A9decine\" title=\"Prix Nobel de physiologie ou médecine\">Physiologie<br/>ou médecine</a>\n",
       "</th>\n",
       "<th width=\"16%\"><a href=\"/wiki/Prix_Nobel_de_litt%C3%A9rature\" title=\"Prix Nobel de littérature\">Littérature</a>\n",
       "</th>\n",
       "<th width=\"16%\"><a href=\"/wiki/Prix_Nobel_de_la_paix\" title=\"Prix Nobel de la paix\">Paix</a>\n",
       "</th>\n",
       "<th width=\"15%\"><a href=\"/wiki/Prix_de_la_Banque_de_Su%C3%A8de_en_sciences_%C3%A9conomiques_en_m%C3%A9moire_d%27Alfred_Nobel\" title=\"Prix de la Banque de Suède en sciences économiques en mémoire d'Alfred Nobel\">Économie</a><span><sup id=\"ref_Note_GG\"><a href=\"#endnote_Note_GG\">[G]</a></sup></span>\n",
       "</th></tr>"
      ]
     },
     "execution_count": 6,
     "metadata": {},
     "output_type": "execute_result"
    }
   ],
   "source": [
    "header_in_html"
   ]
  },
  {
   "cell_type": "code",
   "execution_count": 7,
   "metadata": {},
   "outputs": [],
   "source": [
    "data = {}\n"
   ]
  },
  {
   "cell_type": "code",
   "execution_count": 8,
   "metadata": {},
   "outputs": [],
   "source": [
    "def parse_header(header):\n",
    "    for th in header.contents:\n",
    "        a = th.find('a')\n",
    "        if a== -1 or a ==None:\n",
    "            key = th.string.strip('\\n')\n",
    "            if key!='':\n",
    "                data[key]=[]\n",
    "        else:\n",
    "            key= th.a.string\n",
    "            if key is None:\n",
    "                key = th.a['title'].replace('Prix Nobel de ','').strip()\n",
    "            data[key] = []\n",
    "            \n",
    "        \n",
    "parse_header(header_in_html)"
   ]
  },
  {
   "cell_type": "code",
   "execution_count": 9,
   "metadata": {},
   "outputs": [
    {
     "data": {
      "text/plain": [
       "{'Année': [],\n",
       " 'Physique': [],\n",
       " 'Chimie': [],\n",
       " 'physiologie ou médecine': [],\n",
       " 'Littérature': [],\n",
       " 'Paix': [],\n",
       " 'Économie': []}"
      ]
     },
     "execution_count": 9,
     "metadata": {},
     "output_type": "execute_result"
    }
   ],
   "source": [
    "data"
   ]
  },
  {
   "cell_type": "code",
   "execution_count": 10,
   "metadata": {},
   "outputs": [],
   "source": [
    "def parse_row_data(tr_elt):\n",
    "    global data\n",
    "    td_list = tr_elt.findAll('td')\n",
    "    if td_list:\n",
    "        data['Année'].append(td_list[0].string.strip('\\n'))\n",
    "        keys = list(data.keys())[1:]\n",
    "        vals = td_list[1:]\n",
    "        for i in range(len(keys)):\n",
    "            links = vals[i].findAll('a')\n",
    "            if links:\n",
    "                parsed_val = links[-1].string\n",
    "            else:\n",
    "                parsed_val = None\n",
    "            data[keys[i]].append(parsed_val)\n",
    "    else :\n",
    "        print(f\"It's the end, we are at the table's footer\")"
   ]
  },
  {
   "cell_type": "code",
   "execution_count": 11,
   "metadata": {},
   "outputs": [
    {
     "name": "stdout",
     "output_type": "stream",
     "text": [
      "It's the end, we are at the table's footer\n"
     ]
    }
   ],
   "source": [
    "for tr_element in data_in_html:\n",
    "    parse_row_data(tr_element)"
   ]
  },
  {
   "attachments": {},
   "cell_type": "markdown",
   "metadata": {},
   "source": [
    "## Data restructuration\n",
    "I want to have a structure where each record a person or an organization in a given year to see and the name of the category in which it had a Nobel"
   ]
  },
  {
   "cell_type": "code",
   "execution_count": 12,
   "metadata": {},
   "outputs": [],
   "source": [
    "laureats = {}"
   ]
  },
  {
   "cell_type": "code",
   "execution_count": 13,
   "metadata": {},
   "outputs": [
    {
     "name": "stdout",
     "output_type": "stream",
     "text": [
      "609\n"
     ]
    }
   ],
   "source": [
    "persons = []\n",
    "laureats['Nom'] = []\n",
    "laureats['category'] = []\n",
    "for key,val in data.items():\n",
    "    if key!= 'Année':\n",
    "        persons = list(set(persons).union(val))\n",
    "print(len(persons))\n",
    "\n",
    "laureats['Annee'] = []\n",
    "for val in persons:\n",
    "    for year in data['Année']:\n",
    "        for key in list(data.keys())[1:]:\n",
    "            if val in data[key]:\n",
    "                laureats['category'].append(key)\n",
    "                laureats['Annee'].append(year)\n",
    "                laureats['Nom'].append(val)"
   ]
  },
  {
   "cell_type": "code",
   "execution_count": 14,
   "metadata": {},
   "outputs": [],
   "source": [
    "import pandas as pd"
   ]
  },
  {
   "attachments": {},
   "cell_type": "markdown",
   "metadata": {},
   "source": [
    "### Data persitence in csv file"
   ]
  },
  {
   "cell_type": "code",
   "execution_count": 15,
   "metadata": {},
   "outputs": [
    {
     "data": {
      "text/html": [
       "<div>\n",
       "<style scoped>\n",
       "    .dataframe tbody tr th:only-of-type {\n",
       "        vertical-align: middle;\n",
       "    }\n",
       "\n",
       "    .dataframe tbody tr th {\n",
       "        vertical-align: top;\n",
       "    }\n",
       "\n",
       "    .dataframe thead th {\n",
       "        text-align: right;\n",
       "    }\n",
       "</style>\n",
       "<table border=\"1\" class=\"dataframe\">\n",
       "  <thead>\n",
       "    <tr style=\"text-align: right;\">\n",
       "      <th></th>\n",
       "      <th>Nom</th>\n",
       "      <th>category</th>\n",
       "      <th>Annee</th>\n",
       "    </tr>\n",
       "  </thead>\n",
       "  <tbody>\n",
       "    <tr>\n",
       "      <th>0</th>\n",
       "      <td>Howard Temin</td>\n",
       "      <td>physiologie ou médecine</td>\n",
       "      <td>1901</td>\n",
       "    </tr>\n",
       "    <tr>\n",
       "      <th>1</th>\n",
       "      <td>Howard Temin</td>\n",
       "      <td>physiologie ou médecine</td>\n",
       "      <td>1902</td>\n",
       "    </tr>\n",
       "    <tr>\n",
       "      <th>2</th>\n",
       "      <td>Howard Temin</td>\n",
       "      <td>physiologie ou médecine</td>\n",
       "      <td>1903</td>\n",
       "    </tr>\n",
       "    <tr>\n",
       "      <th>3</th>\n",
       "      <td>Howard Temin</td>\n",
       "      <td>physiologie ou médecine</td>\n",
       "      <td>1904</td>\n",
       "    </tr>\n",
       "    <tr>\n",
       "      <th>4</th>\n",
       "      <td>Howard Temin</td>\n",
       "      <td>physiologie ou médecine</td>\n",
       "      <td>1905</td>\n",
       "    </tr>\n",
       "  </tbody>\n",
       "</table>\n",
       "</div>"
      ],
      "text/plain": [
       "            Nom                 category Annee\n",
       "0  Howard Temin  physiologie ou médecine  1901\n",
       "1  Howard Temin  physiologie ou médecine  1902\n",
       "2  Howard Temin  physiologie ou médecine  1903\n",
       "3  Howard Temin  physiologie ou médecine  1904\n",
       "4  Howard Temin  physiologie ou médecine  1905"
      ]
     },
     "execution_count": 15,
     "metadata": {},
     "output_type": "execute_result"
    }
   ],
   "source": [
    "df = pd.DataFrame(laureats)\n",
    "df.head()"
   ]
  },
  {
   "cell_type": "code",
   "execution_count": 16,
   "metadata": {},
   "outputs": [],
   "source": [
    "df.to_csv('laureats.csv')"
   ]
  }
 ],
 "metadata": {
  "kernelspec": {
   "display_name": "Python 3",
   "language": "python",
   "name": "python3"
  },
  "language_info": {
   "codemirror_mode": {
    "name": "ipython",
    "version": 3
   },
   "file_extension": ".py",
   "mimetype": "text/x-python",
   "name": "python",
   "nbconvert_exporter": "python",
   "pygments_lexer": "ipython3",
   "version": "3.10.4"
  },
  "orig_nbformat": 4
 },
 "nbformat": 4,
 "nbformat_minor": 2
}
